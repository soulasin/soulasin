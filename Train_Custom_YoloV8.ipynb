{
  "nbformat": 4,
  "nbformat_minor": 0,
  "metadata": {
    "colab": {
      "provenance": [],
      "gpuType": "T4"
    },
    "kernelspec": {
      "name": "python3",
      "display_name": "Python 3"
    },
    "language_info": {
      "name": "python"
    },
    "accelerator": "GPU"
  },
  "cells": [
    {
      "cell_type": "markdown",
      "source": [
        "#กำหนด Path ที่จะทำงานใน Colab"
      ],
      "metadata": {
        "id": "prt_D2YHxDph"
      }
    },
    {
      "cell_type": "code",
      "source": [
        "import os\n",
        "HOME = os.getcwd()\n",
        "print(HOME)"
      ],
      "metadata": {
        "id": "1XpUfMAKu2_g"
      },
      "execution_count": null,
      "outputs": []
    },
    {
      "cell_type": "markdown",
      "source": [
        "#ติดตั้ง Library ที่จำเป็น"
      ],
      "metadata": {
        "id": "hQWa4whTxK4m"
      }
    },
    {
      "cell_type": "code",
      "execution_count": null,
      "metadata": {
        "id": "ZIDG3cRIokJw"
      },
      "outputs": [],
      "source": [
        "!pip install ultralytics==8.2.103 -q\n",
        "!pip install roboflow -q"
      ]
    },
    {
      "cell_type": "markdown",
      "source": [
        "# สร้าง Folder รองรับ Dataset"
      ],
      "metadata": {
        "id": "wPIyZkkSxcMQ"
      }
    },
    {
      "cell_type": "code",
      "source": [
        "!mkdir -p {HOME}/datasets\n",
        "%cd {HOME}/datasets"
      ],
      "metadata": {
        "colab": {
          "base_uri": "https://localhost:8080/"
        },
        "id": "WPE3-MXhvj97",
        "outputId": "6418a122-c864-4417-ef52-33a83176d22a"
      },
      "execution_count": null,
      "outputs": [
        {
          "output_type": "stream",
          "name": "stdout",
          "text": [
            "/content/datasets\n"
          ]
        }
      ]
    },
    {
      "cell_type": "markdown",
      "source": [
        "#โหลด Dataset จาก Roboflow"
      ],
      "metadata": {
        "id": "MXtSJYFHxiXV"
      }
    },
    {
      "cell_type": "code",
      "source": [
        "from roboflow import Roboflow\n",
        "rf = Roboflow(api_key=\"lZNFP5NlI4c9s7l6TkF3\")\n",
        "project = rf.workspace(\"testimage-5sifa\").project(\"detectremote\")\n",
        "version = project.version(6)\n",
        "dataset = version.download(\"yolov8\")"
      ],
      "metadata": {
        "id": "wqsgzx5gsM25"
      },
      "execution_count": null,
      "outputs": []
    },
    {
      "cell_type": "markdown",
      "source": [
        "#  Train Model Yolo ด้วย Dataset ที่เตรียมไว้"
      ],
      "metadata": {
        "id": "VN8mgyg3xqzv"
      }
    },
    {
      "cell_type": "code",
      "source": [
        "import ultralytics\n",
        "from ultralytics import YOLO\n",
        "%cd {HOME}\n",
        "!yolo task=detect mode=train model=yolov8s.pt data={dataset.location}/data.yaml epochs=25 imgsz=800 plots=True"
      ],
      "metadata": {
        "id": "h9f3bV7Fv5iy"
      },
      "execution_count": null,
      "outputs": []
    },
    {
      "cell_type": "markdown",
      "source": [
        "#แสดงผลลัพธ์จากการ Train Model"
      ],
      "metadata": {
        "id": "dXd2zpAty2cK"
      }
    },
    {
      "cell_type": "markdown",
      "source": [
        "## เตรียมฟังก์ชั่น แสดงรูปภาพ"
      ],
      "metadata": {
        "id": "X2kuXMm2zE9X"
      }
    },
    {
      "cell_type": "code",
      "source": [
        "import matplotlib.pyplot as plt\n",
        "import cv2\n",
        "import os\n",
        "\n",
        "# ฟังก์ชันแสดงภาพด้วย matplotlib\n",
        "def display_image(image_path, figsize=(10, 10)):\n",
        "    \"\"\"แสดงภาพโดยใช้ matplotlib\"\"\"\n",
        "    if not os.path.exists(image_path):\n",
        "        print(f\"ไม่พบไฟล์ที่ {image_path}\")\n",
        "        return\n",
        "    # โหลดภาพ\n",
        "    image = cv2.imread(image_path)  # โหลดภาพด้วย OpenCV\n",
        "    image = cv2.cvtColor(image, cv2.COLOR_BGR2RGB)  # แปลงสี BGR เป็น RGB\n",
        "    # แสดงผลภาพ\n",
        "    plt.figure(figsize=figsize)\n",
        "    plt.imshow(image)\n",
        "    plt.axis('off')  # ปิดแกน\n",
        "    plt.show()"
      ],
      "metadata": {
        "id": "shYsDXbty7NS"
      },
      "execution_count": null,
      "outputs": []
    },
    {
      "cell_type": "markdown",
      "source": [
        "##แสดง Confusion Metrix"
      ],
      "metadata": {
        "id": "5AsapeH_zLqm"
      }
    },
    {
      "cell_type": "code",
      "source": [
        "# เส้นทางไฟล์ภาพ confusion_matrix\n",
        "image_path = f\"{HOME}/runs/detect/train/confusion_matrix.png\"\n",
        "# เรียกใช้ฟังก์ชันแสดงภาพ\n",
        "display_image(image_path)"
      ],
      "metadata": {
        "id": "RJziAXMsypjK"
      },
      "execution_count": null,
      "outputs": []
    },
    {
      "cell_type": "markdown",
      "source": [
        "##แสดงภาพตัวอย่างที่ทำนายแล้ว จากการ Valid"
      ],
      "metadata": {
        "id": "Y4C_k4-nzX2C"
      }
    },
    {
      "cell_type": "code",
      "source": [
        "# เส้นทางไฟล์ภาพจากการ Valid\n",
        "image_path = f'{HOME}/runs/detect/train/val_batch0_pred.jpg'\n",
        "# เรียกใช้ฟังก์ชันแสดงภาพ\n",
        "display_image(image_path)"
      ],
      "metadata": {
        "id": "XDrCMWSUwDEr"
      },
      "execution_count": null,
      "outputs": []
    },
    {
      "cell_type": "markdown",
      "source": [
        "#ดาวน์โหลด Model ไปใช้"
      ],
      "metadata": {
        "id": "OEC9C4dM0B1a"
      }
    },
    {
      "cell_type": "code",
      "source": [
        "from google.colab import files\n",
        "# ระบุเส้นทางของไฟล์ที่ต้องการดาวน์โหลด\n",
        "file_path = '/content/runs/detect/train/weights/best.pt'\n",
        "# ดาวน์โหลดไฟล์\n",
        "files.download(file_path)"
      ],
      "metadata": {
        "colab": {
          "base_uri": "https://localhost:8080/",
          "height": 17
        },
        "id": "y0K1tFSJz92x",
        "outputId": "b4739adf-4ae9-4342-99d8-f29f707f5a7b"
      },
      "execution_count": null,
      "outputs": [
        {
          "output_type": "display_data",
          "data": {
            "text/plain": [
              "<IPython.core.display.Javascript object>"
            ],
            "application/javascript": [
              "\n",
              "    async function download(id, filename, size) {\n",
              "      if (!google.colab.kernel.accessAllowed) {\n",
              "        return;\n",
              "      }\n",
              "      const div = document.createElement('div');\n",
              "      const label = document.createElement('label');\n",
              "      label.textContent = `Downloading \"${filename}\": `;\n",
              "      div.appendChild(label);\n",
              "      const progress = document.createElement('progress');\n",
              "      progress.max = size;\n",
              "      div.appendChild(progress);\n",
              "      document.body.appendChild(div);\n",
              "\n",
              "      const buffers = [];\n",
              "      let downloaded = 0;\n",
              "\n",
              "      const channel = await google.colab.kernel.comms.open(id);\n",
              "      // Send a message to notify the kernel that we're ready.\n",
              "      channel.send({})\n",
              "\n",
              "      for await (const message of channel.messages) {\n",
              "        // Send a message to notify the kernel that we're ready.\n",
              "        channel.send({})\n",
              "        if (message.buffers) {\n",
              "          for (const buffer of message.buffers) {\n",
              "            buffers.push(buffer);\n",
              "            downloaded += buffer.byteLength;\n",
              "            progress.value = downloaded;\n",
              "          }\n",
              "        }\n",
              "      }\n",
              "      const blob = new Blob(buffers, {type: 'application/binary'});\n",
              "      const a = document.createElement('a');\n",
              "      a.href = window.URL.createObjectURL(blob);\n",
              "      a.download = filename;\n",
              "      div.appendChild(a);\n",
              "      a.click();\n",
              "      div.remove();\n",
              "    }\n",
              "  "
            ]
          },
          "metadata": {}
        },
        {
          "output_type": "display_data",
          "data": {
            "text/plain": [
              "<IPython.core.display.Javascript object>"
            ],
            "application/javascript": [
              "download(\"download_f58b6286-f7a7-4c4e-87c0-9d01234fa449\", \"best.pt\", 22543267)"
            ]
          },
          "metadata": {}
        }
      ]
    },
    {
      "cell_type": "markdown",
      "source": [
        "# การนำโมเดลที่สำเร็จแล้วมาใช้ (ใน Colab)"
      ],
      "metadata": {
        "id": "H2WTAsBs1NzA"
      }
    },
    {
      "cell_type": "code",
      "source": [
        "import cv2\n",
        "from ultralytics import YOLO\n",
        "import matplotlib.pyplot as plt\n",
        "from google.colab import files\n",
        "import os"
      ],
      "metadata": {
        "id": "plUc0SkQ2y-o"
      },
      "execution_count": null,
      "outputs": []
    },
    {
      "cell_type": "markdown",
      "source": [
        "## อัพโหลดไฟล์รูปที่ต้องการค้นหาวัตถุ"
      ],
      "metadata": {
        "id": "j38y2en83C6k"
      }
    },
    {
      "cell_type": "code",
      "source": [
        "\n",
        "uploaded = files.upload()  # เรียกใช้ตัวอัพโหลดรูปของ Colab\n",
        "if not uploaded:\n",
        "    raise FileNotFoundError(\"No file uploaded!\")\n",
        "test_image_path = next(iter(uploaded.keys()))  # เก็บชื่อไฟล์เข้าสู่ตัวแปร"
      ],
      "metadata": {
        "id": "xokUsA6i23d7"
      },
      "execution_count": null,
      "outputs": []
    },
    {
      "cell_type": "markdown",
      "source": [
        "## เรียกใช้โมเดลที่ Train ไว้แล้ว"
      ],
      "metadata": {
        "id": "kAMDW_0L3NrC"
      }
    },
    {
      "cell_type": "code",
      "source": [
        "# โหลดโมเดล best\n",
        "model_path = \"best.pt\"\n",
        "if not os.path.exists(model_path):\n",
        "    raise FileNotFoundError(f\"YOLO model file not found at {model_path}\")\n",
        "model = YOLO(model_path)"
      ],
      "metadata": {
        "id": "13Po4pX93YeR"
      },
      "execution_count": null,
      "outputs": []
    },
    {
      "cell_type": "markdown",
      "source": [
        "## อ่านภาพที่อัพโหลดผ่าน Model"
      ],
      "metadata": {
        "id": "60X3_7J53YEp"
      }
    },
    {
      "cell_type": "code",
      "source": [
        "# โหลดภาพด้วย OpenCV\n",
        "image = cv2.imread(test_image_path)\n",
        "if image is None:\n",
        "    raise FileNotFoundError(f\"Image not found at {test_image_path}\")\n",
        "\n",
        "# แปลงรูปสีเป็นขาวดำ\n",
        "image = cv2.cvtColor(image, cv2.COLOR_BGR2RGB)\n",
        "\n",
        "# ส่งภาพเข้าโมเดล\n",
        "results = model(image)"
      ],
      "metadata": {
        "id": "0G_7DAVr3qAI"
      },
      "execution_count": null,
      "outputs": []
    },
    {
      "cell_type": "markdown",
      "source": [
        "## ตีกรอบ (Bounding Box) วัตถุจากผลลัพธ์ของ Model"
      ],
      "metadata": {
        "id": "kF0iQFuB3yeS"
      }
    },
    {
      "cell_type": "code",
      "source": [
        "for result in results:\n",
        "    boxes = result.boxes.cpu().numpy()  # แปลงตำแหน่ง Bounding Box ให้อยู่ในรูปแบบ NumPy array\n",
        "    for box in boxes:\n",
        "        x1, y1, x2, y2 = box.xyxy[0]  # ดึงค่าพิกัด Bounding Box (มุมซ้ายบนและมุมขวาล่าง)\n",
        "        confidence = box.conf[0]  # ดึงค่าความเชื่อมั่นวัตถุ\n",
        "        cls = int(box.cls[0])  # ดึงค่า class id ของวัตถุที่ตรวจจับได้\n",
        "        if confidence > 0.5:  # กรองเฉพาะวัตถุที่มีเชื่อมั่นมากกว่า 50%\n",
        "            label = f\"{model.names[cls]} {confidence:.2f}\"  # สร้างข้อความแสดงชนิดของวัตถุและค่าความเชื่อมั่น\n",
        "            # ตีกรอบ (สีแดงและความหนา 3 พิกเซล)\n",
        "            cv2.rectangle(image, (int(x1), int(y1)), (int(x2), int(y2)), (255, 0, 0), 3)\n",
        "            # เขียนข้อความ label\n",
        "            cv2.putText(image,label, (int(x1), int(y1) - 10), cv2.FONT_HERSHEY_SIMPLEX, 0.5, (255, 0, 0), 2)"
      ],
      "metadata": {
        "id": "Hr3ll8_g1VzN"
      },
      "execution_count": null,
      "outputs": []
    },
    {
      "cell_type": "code",
      "source": [
        "# Display the resulting image using matplotlib\n",
        "plt.figure(figsize=(10, 10))\n",
        "plt.imshow(image)\n",
        "plt.axis(\"off\")\n",
        "plt.show()"
      ],
      "metadata": {
        "id": "-mREyuCP4Dtw"
      },
      "execution_count": null,
      "outputs": []
    }
  ]
}